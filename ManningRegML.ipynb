{
 "cells": [
  {
   "cell_type": "markdown",
   "metadata": {},
   "source": [
    "<img src=\"trees.png\">"
   ]
  },
  {
   "cell_type": "code",
   "execution_count": 40,
   "metadata": {},
   "outputs": [
    {
     "data": {
      "text/html": [
       "<center><video width=640 controls>\n",
       "    <source src=\"intro.mp4\" type=\"video/mp4\">\n",
       "</video></center>\n"
      ],
      "text/plain": [
       "<IPython.core.display.HTML object>"
      ]
     },
     "metadata": {},
     "output_type": "display_data"
    }
   ],
   "source": [
    "%%HTML\n",
    "<center><video width=640 controls><source src=\"intro.mp4\" type=\"video/mp4\"></video></center>"
   ]
  },
  {
   "cell_type": "code",
   "execution_count": 30,
   "metadata": {},
   "outputs": [
    {
     "data": {
      "text/html": [
       "<center><iframe width=\"640\" height=\"480\" src=\"https://www.youtube.com/embed/zCTrOUFLQ0o\" frameborder=\"0\" allow=\"accelerometer; autoplay; encrypted-media; gyroscope; picture-in-picture\" allowfullscreen></iframe></center>"
      ],
      "text/plain": [
       "<IPython.core.display.HTML object>"
      ]
     },
     "execution_count": 30,
     "metadata": {},
     "output_type": "execute_result"
    }
   ],
   "source": [
    "from IPython.display import HTML\n",
    "HTML('<center><iframe width=\"640\" height=\"480\" src=\"https://www.youtube.com/embed/zCTrOUFLQ0o\" frameborder=\"0\" allow=\"accelerometer; autoplay; encrypted-media; gyroscope; picture-in-picture\" allowfullscreen></iframe></center>')"
   ]
  },
  {
   "cell_type": "markdown",
   "metadata": {},
   "source": [
    "<center><h1>Preparation</h1></center>"
   ]
  },
  {
   "cell_type": "markdown",
   "metadata": {},
   "source": [
    "<h2>Who is this exercise for?</h2>\n",
    "\n",
    "<p>This lesson is intended for students new to Machine Learning</p>\n",
    "\n",
    "<h2>What will I be able to do after working through this exercise?</h2>\n",
    "\n",
    "<ul>Defining and deconstructing a business problem</ul>\n",
    "<ul>Identify Inputs (X) and Outcomes (y)</ul>\n",
    "<ul>Define and Recognize Supervised Learning</ul>\n",
    "<ul>Gain Knowledge about the data/problem</ul>\n",
    "<ul>Demonstrate Modeling</ul>\n",
    "<ul>Assess Findings / Present Findings</ul>\n",
    "\n",
    "<h2>What do I need to Know prior to doing the work?</h2>\n",
    "\n",
    "While this is meant to be a 'Day 0' or foundational introduction to the basics of Machine Learning, some of the work will be done using the Python Programming Language. \n",
    "\n",
    "If you do not have any prior experience with Python (or another programming language) do not worry, we have created a small pre-work exercise to help you come up to speed on what is needed prior to diving into this exercise. \n",
    "\n",
    "<a href=\"https://github.com/phi16181/python_prework/blob/master/page1.ipynb\">Here is the pre-work exercise</a>"
   ]
  },
  {
   "cell_type": "code",
   "execution_count": 32,
   "metadata": {},
   "outputs": [
    {
     "data": {
      "text/html": [
       "<center><iframe width=\"560\" height=\"315\" src=\"https://www.youtube.com/embed/0bi2wKjsm1U\" frameborder=\"0\" allow=\"accelerometer; autoplay; encrypted-media; gyroscope; picture-in-picture\" allowfullscreen></iframe></center>"
      ],
      "text/plain": [
       "<IPython.core.display.HTML object>"
      ]
     },
     "execution_count": 32,
     "metadata": {},
     "output_type": "execute_result"
    }
   ],
   "source": [
    "HTML('<center><iframe width=\"640\" height=\"480\" src=\"https://www.youtube.com/embed/0bi2wKjsm1U\" frameborder=\"0\" allow=\"accelerometer; autoplay; encrypted-media; gyroscope; picture-in-picture\" allowfullscreen></iframe></center>')"
   ]
  },
  {
   "cell_type": "markdown",
   "metadata": {},
   "source": [
    "<center><h1>Let's Do This!</h1></center>"
   ]
  },
  {
   "cell_type": "markdown",
   "metadata": {},
   "source": [
    "<h2>Some Brief Reading</h2>\n",
    "\n",
    "Before you dive into the exercise and in addition to prior knowledge of Python, it is also not a bad idea to grab some quick knowledge from a few readings, but don't worry, the readings will not take too long and you'll be diving into using machine learning very soon!\n",
    "\n",
    "<a href=\"https://medium.com/hashmapinc/a-day-0-intro-to-machine-learning-1ce0b3530162\">A ‘Day 0' Intro to Machine Learning</a>\n",
    "\n",
    "<a href=\"https://medium.com/hashmapinc/a-day-1-intro-to-machine-learning-da250d7b4dca\">A ‘Day 1’ Intro to Machine Learning</a>"
   ]
  },
  {
   "cell_type": "markdown",
   "metadata": {},
   "source": [
    "<h3>Objective one: Defining and deconstructing a business problem</h3>\n",
    "<h3>Objective two: Identify Inputs (X) and Outcomes (y)</h3>\n",
    "\n",
    "<p>As a new Data Science student, you have been tasked with building a new local climate model that Climate Scientists can use for predicting Global Horizontal Irradiance (Solar energy from the Sun). You have been provided with a historical set of actual weather data readings over one year in Athens, GA. The data contains the following information:</p>\n",
    "    <h2>Variables:</h2>\n",
    "    <ul>1. Time of Day</ul>\n",
    "<ul>2. Air Temperature (Celcius)</ul>\n",
    "<ul>3. Humidity: (%) of the actual amount of water vapor in the air</ul>\n",
    "<ul>4. Dew Point (Celcius)</ul>\n",
    "<ul>5. Barometric Pressure (mBar)</ul>\n",
    "<ul>6. Wind Speed (km/hr)</ul>\n",
    "<ul>7. Solar Radiation - w/m2</ul>\n",
    "</p>\n",
    "<h2>Your Task</h2>\n",
    "<p>You need to use Supervised Learning to build a new model that is at least 70% 'good', but it doesnt necessarily need to predict exact amounts of Solar Radiation as most solar panels have a lower degree of efficiency. If needed, we could also get by with knowing a good estimate of a specifc range of predicted values.</p>\n",
    "\n",
    "\n",
    "\n",
    "<b>Question 1: What is being predicted in the model?</b><br>\n",
    "<b>Question 2: What will serve as the inputs of the model?</b>\n"
   ]
  },
  {
   "cell_type": "code",
   "execution_count": 33,
   "metadata": {},
   "outputs": [
    {
     "data": {
      "text/html": [
       "<center><iframe width=\"560\" height=\"315\" src=\"https://www.youtube.com/embed/-j_ll_HRigs\" frameborder=\"0\" allow=\"accelerometer; autoplay; encrypted-media; gyroscope; picture-in-picture\" allowfullscreen></iframe></center>"
      ],
      "text/plain": [
       "<IPython.core.display.HTML object>"
      ]
     },
     "execution_count": 33,
     "metadata": {},
     "output_type": "execute_result"
    }
   ],
   "source": [
    "HTML('<center><iframe width=\"640\" height=\"480\" src=\"https://www.youtube.com/embed/-j_ll_HRigs\" frameborder=\"0\" allow=\"accelerometer; autoplay; encrypted-media; gyroscope; picture-in-picture\" allowfullscreen></iframe></center>')"
   ]
  },
  {
   "cell_type": "markdown",
   "metadata": {},
   "source": [
    "<h3>Objective three: Define and Recognize Supervised Learning</h3>"
   ]
  },
  {
   "cell_type": "markdown",
   "metadata": {},
   "source": [
    "<img src=\"bike.jpg\">"
   ]
  },
  {
   "cell_type": "markdown",
   "metadata": {},
   "source": [
    "<p>It is much like learning to ride a bike: One of my fondest childhood memories is of my father teaching me to ride my new bike. I think this was my first ‘real’ hard knocks experience since my father didn’t show me how to ride my bike, but rather allowed me to fail slightly each time I tried and eventually fell off. Seemingly, Id never get there, but slowly and surely I deduced what I was doing wrong based in the lessons I learned about what I was doing right each time I tried to ride. Throughout my experiences and experiments, I adjusted each on of these variables until the outcome resembled some semblance of what was needed to breeze down our dead-end street on my own and ride with the fastest of my friends.</p>"
   ]
  },
  {
   "cell_type": "markdown",
   "metadata": {},
   "source": [
    "<h2>In Supervised machine learning, we break our problem into two parts:</h2> <p>A. A record (observation) of each trial and the skills involved in learning a skill or goal (outcome).</p><p> B. The results of each trial (outcome).</p>"
   ]
  },
  {
   "cell_type": "markdown",
   "metadata": {},
   "source": [
    "<img src=\"suplearn.png\">"
   ]
  },
  {
   "cell_type": "markdown",
   "metadata": {},
   "source": [
    "<h2>So what is being 'learned?'</h2>"
   ]
  },
  {
   "cell_type": "markdown",
   "metadata": {},
   "source": [
    "<img src=\"mapping1.png\">"
   ]
  },
  {
   "cell_type": "markdown",
   "metadata": {},
   "source": [
    "<h2>In more 'Math' terms</h2>\n",
    "<p>Inputs (features or X)</p>\n",
    "<p>Output (Dependent Variable or y)</p>"
   ]
  },
  {
   "cell_type": "markdown",
   "metadata": {},
   "source": [
    "<img src=\"mapping2.png\">\n",
    "<b>Question 3: What is being 'learned' in the machine learning process?</b>"
   ]
  },
  {
   "cell_type": "code",
   "execution_count": 34,
   "metadata": {},
   "outputs": [
    {
     "data": {
      "text/html": [
       "<center><iframe width=\"560\" height=\"315\" src=\"https://www.youtube.com/embed/W97xaHo3kyY\" frameborder=\"0\" allow=\"accelerometer; autoplay; encrypted-media; gyroscope; picture-in-picture\" allowfullscreen></iframe></center>"
      ],
      "text/plain": [
       "<IPython.core.display.HTML object>"
      ]
     },
     "execution_count": 34,
     "metadata": {},
     "output_type": "execute_result"
    }
   ],
   "source": [
    "HTML('<center><iframe width=\"640\" height=\"480\" src=\"https://www.youtube.com/embed/W97xaHo3kyY\" frameborder=\"0\" allow=\"accelerometer; autoplay; encrypted-media; gyroscope; picture-in-picture\" allowfullscreen></iframe></center>')"
   ]
  },
  {
   "cell_type": "markdown",
   "metadata": {},
   "source": [
    "<h1><center> Learn-by-Doing Excercise </center></h1>"
   ]
  },
  {
   "cell_type": "markdown",
   "metadata": {
    "heading_collapsed": true
   },
   "source": [
    "<h3>Objective four: Gain Knowledge about the data/problem</h3>"
   ]
  },
  {
   "cell_type": "code",
   "execution_count": 2,
   "metadata": {
    "hidden": true
   },
   "outputs": [],
   "source": [
    "#DS Basics\n",
    "import numpy as np\n",
    "import pandas as pd\n",
    "import matplotlib.pyplot as plt\n",
    "import seaborn as sns\n",
    "\n",
    "#SKLearn Stuff\n",
    "from sklearn.model_selection import train_test_split\n",
    "from sklearn.tree import export_graphviz, DecisionTreeRegressor, plot_tree\n",
    "from sklearn.metrics import r2_score, mean_squared_error\n",
    "\n",
    "#helpers\n",
    "%matplotlib inline\n",
    "from math import sqrt\n",
    "\n",
    "#tree plotting\n",
    "from sklearn.externals.six import StringIO \n",
    "from IPython.display import Image \n",
    "from sklearn.tree import export_graphviz\n",
    "import graphviz \n",
    "import pydotplus"
   ]
  },
  {
   "cell_type": "markdown",
   "metadata": {
    "heading_collapsed": true
   },
   "source": [
    "# Data Import"
   ]
  },
  {
   "cell_type": "code",
   "execution_count": 3,
   "metadata": {
    "hidden": true
   },
   "outputs": [
    {
     "data": {
      "text/html": [
       "<div>\n",
       "<style scoped>\n",
       "    .dataframe tbody tr th:only-of-type {\n",
       "        vertical-align: middle;\n",
       "    }\n",
       "\n",
       "    .dataframe tbody tr th {\n",
       "        vertical-align: top;\n",
       "    }\n",
       "\n",
       "    .dataframe thead th {\n",
       "        text-align: right;\n",
       "    }\n",
       "</style>\n",
       "<table border=\"1\" class=\"dataframe\">\n",
       "  <thead>\n",
       "    <tr style=\"text-align: right;\">\n",
       "      <th></th>\n",
       "      <th>TimeofDay</th>\n",
       "      <th>AirTemp</th>\n",
       "      <th>Humidity</th>\n",
       "      <th>Dewpoint</th>\n",
       "      <th>BarPres</th>\n",
       "      <th>SolarRad</th>\n",
       "    </tr>\n",
       "  </thead>\n",
       "  <tbody>\n",
       "    <tr>\n",
       "      <th>33315</th>\n",
       "      <td>100</td>\n",
       "      <td>7.510</td>\n",
       "      <td>71.70</td>\n",
       "      <td>2.75</td>\n",
       "      <td>101.49</td>\n",
       "      <td>3.59</td>\n",
       "    </tr>\n",
       "    <tr>\n",
       "      <th>23294</th>\n",
       "      <td>1545</td>\n",
       "      <td>31.120</td>\n",
       "      <td>50.17</td>\n",
       "      <td>19.54</td>\n",
       "      <td>101.49</td>\n",
       "      <td>545.00</td>\n",
       "    </tr>\n",
       "    <tr>\n",
       "      <th>26851</th>\n",
       "      <td>1700</td>\n",
       "      <td>21.910</td>\n",
       "      <td>73.60</td>\n",
       "      <td>16.99</td>\n",
       "      <td>102.78</td>\n",
       "      <td>185.50</td>\n",
       "    </tr>\n",
       "    <tr>\n",
       "      <th>3605</th>\n",
       "      <td>1330</td>\n",
       "      <td>3.277</td>\n",
       "      <td>60.31</td>\n",
       "      <td>-3.67</td>\n",
       "      <td>102.05</td>\n",
       "      <td>254.40</td>\n",
       "    </tr>\n",
       "    <tr>\n",
       "      <th>10465</th>\n",
       "      <td>30</td>\n",
       "      <td>18.490</td>\n",
       "      <td>51.46</td>\n",
       "      <td>8.32</td>\n",
       "      <td>102.91</td>\n",
       "      <td>4.09</td>\n",
       "    </tr>\n",
       "  </tbody>\n",
       "</table>\n",
       "</div>"
      ],
      "text/plain": [
       "       TimeofDay  AirTemp  Humidity  Dewpoint  BarPres  SolarRad\n",
       "33315        100    7.510     71.70      2.75   101.49      3.59\n",
       "23294       1545   31.120     50.17     19.54   101.49    545.00\n",
       "26851       1700   21.910     73.60     16.99   102.78    185.50\n",
       "3605        1330    3.277     60.31     -3.67   102.05    254.40\n",
       "10465         30   18.490     51.46      8.32   102.91      4.09"
      ]
     },
     "execution_count": 3,
     "metadata": {},
     "output_type": "execute_result"
    }
   ],
   "source": [
    "#Import and View the Data\n",
    "solar = pd.read_csv('WholeYear.csv')\n",
    "#If any, drop duplicate rows\n",
    "solar = solar.drop_duplicates()\n",
    "#Drop uneeded columns (too many unique values and/or not relevant)\n",
    "solar = solar.drop(columns=['WindSpeed']);\n",
    "#check our data\n",
    "solar.sample(5)"
   ]
  },
  {
   "cell_type": "markdown",
   "metadata": {
    "heading_collapsed": true
   },
   "source": [
    "# Preprocessing and EDA"
   ]
  },
  {
   "cell_type": "code",
   "execution_count": 4,
   "metadata": {
    "hidden": true
   },
   "outputs": [
    {
     "data": {
      "text/plain": [
       "TimeofDay      int64\n",
       "AirTemp      float64\n",
       "Humidity     float64\n",
       "Dewpoint     float64\n",
       "BarPres      float64\n",
       "SolarRad     float64\n",
       "dtype: object"
      ]
     },
     "execution_count": 4,
     "metadata": {},
     "output_type": "execute_result"
    }
   ],
   "source": [
    "#check datatypes to ensure all data is numerical\n",
    "solar.dtypes"
   ]
  },
  {
   "cell_type": "code",
   "execution_count": 5,
   "metadata": {
    "scrolled": true
   },
   "outputs": [
    {
     "name": "stdout",
     "output_type": "stream",
     "text": [
      "TimeofDay    0\n",
      "AirTemp      0\n",
      "Humidity     0\n",
      "Dewpoint     0\n",
      "BarPres      0\n",
      "SolarRad     0\n",
      "dtype: int64\n"
     ]
    }
   ],
   "source": [
    "#check for missing values and impute if necessary\n",
    "print(solar.isnull().sum())"
   ]
  },
  {
   "cell_type": "code",
   "execution_count": 6,
   "metadata": {},
   "outputs": [],
   "source": [
    "#convert AirTemp to F\n",
    "solar['AirTemp'] = solar['AirTemp'] * (9/5) + 32\n",
    "#convert DewPoint to F\n",
    "solar['Dewpoint'] = solar['Dewpoint'] * (9/5) + 32"
   ]
  },
  {
   "cell_type": "code",
   "execution_count": 7,
   "metadata": {},
   "outputs": [
    {
     "data": {
      "text/html": [
       "<div>\n",
       "<style scoped>\n",
       "    .dataframe tbody tr th:only-of-type {\n",
       "        vertical-align: middle;\n",
       "    }\n",
       "\n",
       "    .dataframe tbody tr th {\n",
       "        vertical-align: top;\n",
       "    }\n",
       "\n",
       "    .dataframe thead th {\n",
       "        text-align: right;\n",
       "    }\n",
       "</style>\n",
       "<table border=\"1\" class=\"dataframe\">\n",
       "  <thead>\n",
       "    <tr style=\"text-align: right;\">\n",
       "      <th></th>\n",
       "      <th>TimeofDay</th>\n",
       "      <th>AirTemp</th>\n",
       "      <th>Humidity</th>\n",
       "      <th>Dewpoint</th>\n",
       "      <th>BarPres</th>\n",
       "      <th>SolarRad</th>\n",
       "    </tr>\n",
       "  </thead>\n",
       "  <tbody>\n",
       "    <tr>\n",
       "      <th>count</th>\n",
       "      <td>35136.000000</td>\n",
       "      <td>35136.000000</td>\n",
       "      <td>35136.000000</td>\n",
       "      <td>35136.000000</td>\n",
       "      <td>35136.000000</td>\n",
       "      <td>35136.000000</td>\n",
       "    </tr>\n",
       "    <tr>\n",
       "      <th>mean</th>\n",
       "      <td>1197.500000</td>\n",
       "      <td>61.847794</td>\n",
       "      <td>69.782139</td>\n",
       "      <td>50.475156</td>\n",
       "      <td>101.971642</td>\n",
       "      <td>182.197669</td>\n",
       "    </tr>\n",
       "    <tr>\n",
       "      <th>std</th>\n",
       "      <td>692.973004</td>\n",
       "      <td>15.426175</td>\n",
       "      <td>21.052123</td>\n",
       "      <td>17.433130</td>\n",
       "      <td>0.553103</td>\n",
       "      <td>264.007618</td>\n",
       "    </tr>\n",
       "    <tr>\n",
       "      <th>min</th>\n",
       "      <td>15.000000</td>\n",
       "      <td>16.556000</td>\n",
       "      <td>9.980000</td>\n",
       "      <td>-7.096000</td>\n",
       "      <td>99.960000</td>\n",
       "      <td>3.480000</td>\n",
       "    </tr>\n",
       "    <tr>\n",
       "      <th>25%</th>\n",
       "      <td>611.250000</td>\n",
       "      <td>50.342000</td>\n",
       "      <td>54.320000</td>\n",
       "      <td>35.870000</td>\n",
       "      <td>101.650000</td>\n",
       "      <td>4.160000</td>\n",
       "    </tr>\n",
       "    <tr>\n",
       "      <th>50%</th>\n",
       "      <td>1207.500000</td>\n",
       "      <td>65.210000</td>\n",
       "      <td>73.900000</td>\n",
       "      <td>55.868000</td>\n",
       "      <td>101.970000</td>\n",
       "      <td>7.840000</td>\n",
       "    </tr>\n",
       "    <tr>\n",
       "      <th>75%</th>\n",
       "      <td>1803.750000</td>\n",
       "      <td>73.130000</td>\n",
       "      <td>88.400000</td>\n",
       "      <td>65.606000</td>\n",
       "      <td>102.270000</td>\n",
       "      <td>306.100000</td>\n",
       "    </tr>\n",
       "    <tr>\n",
       "      <th>max</th>\n",
       "      <td>2400.000000</td>\n",
       "      <td>93.812000</td>\n",
       "      <td>98.900000</td>\n",
       "      <td>74.462000</td>\n",
       "      <td>103.810000</td>\n",
       "      <td>1089.000000</td>\n",
       "    </tr>\n",
       "  </tbody>\n",
       "</table>\n",
       "</div>"
      ],
      "text/plain": [
       "          TimeofDay       AirTemp      Humidity      Dewpoint       BarPres  \\\n",
       "count  35136.000000  35136.000000  35136.000000  35136.000000  35136.000000   \n",
       "mean    1197.500000     61.847794     69.782139     50.475156    101.971642   \n",
       "std      692.973004     15.426175     21.052123     17.433130      0.553103   \n",
       "min       15.000000     16.556000      9.980000     -7.096000     99.960000   \n",
       "25%      611.250000     50.342000     54.320000     35.870000    101.650000   \n",
       "50%     1207.500000     65.210000     73.900000     55.868000    101.970000   \n",
       "75%     1803.750000     73.130000     88.400000     65.606000    102.270000   \n",
       "max     2400.000000     93.812000     98.900000     74.462000    103.810000   \n",
       "\n",
       "           SolarRad  \n",
       "count  35136.000000  \n",
       "mean     182.197669  \n",
       "std      264.007618  \n",
       "min        3.480000  \n",
       "25%        4.160000  \n",
       "50%        7.840000  \n",
       "75%      306.100000  \n",
       "max     1089.000000  "
      ]
     },
     "execution_count": 7,
     "metadata": {},
     "output_type": "execute_result"
    }
   ],
   "source": [
    "#Descriptive Stats\n",
    "solar.describe()"
   ]
  },
  {
   "cell_type": "code",
   "execution_count": 8,
   "metadata": {},
   "outputs": [
    {
     "data": {
      "image/png": "[encoded data removed]",
      "text/plain": [
       "<Figure size 864x432 with 2 Axes>"
      ]
     },
     "metadata": {
      "needs_background": "light"
     },
     "output_type": "display_data"
    }
   ],
   "source": [
    "#Correlation\n",
    "solarcor = solar.corr()\n",
    "plt.figure(figsize=(12,6))\n",
    "sns.heatmap(solarcor, annot=True, cmap=\"Blues\", linewidths = 1, fmt='g')\n",
    "plt.show()"
   ]
  },
  {
   "cell_type": "code",
   "execution_count": 35,
   "metadata": {},
   "outputs": [
    {
     "data": {
      "text/html": [
       "<center><iframe width=\"560\" height=\"315\" src=\"https://www.youtube.com/embed/0wzab8TTXLQ\" frameborder=\"0\" allow=\"accelerometer; autoplay; encrypted-media; gyroscope; picture-in-picture\" allowfullscreen></iframe></center>"
      ],
      "text/plain": [
       "<IPython.core.display.HTML object>"
      ]
     },
     "execution_count": 35,
     "metadata": {},
     "output_type": "execute_result"
    }
   ],
   "source": [
    "HTML('<center><iframe width=\"640\" height=\"480\" src=\"https://www.youtube.com/embed/0wzab8TTXLQ\" frameborder=\"0\" allow=\"accelerometer; autoplay; encrypted-media; gyroscope; picture-in-picture\" allowfullscreen></iframe></center>')"
   ]
  },
  {
   "cell_type": "markdown",
   "metadata": {},
   "source": [
    "<h3>Objective five: Demonstrate Modelling</h3>"
   ]
  },
  {
   "cell_type": "markdown",
   "metadata": {
    "heading_collapsed": true
   },
   "source": [
    "# Split data"
   ]
  },
  {
   "cell_type": "code",
   "execution_count": 9,
   "metadata": {
    "hidden": true
   },
   "outputs": [],
   "source": [
    "#split data \n",
    "#Features\n",
    "X = solar.iloc[:,0:5]\n",
    "#Dep Var\n",
    "y = solar['SolarRad']"
   ]
  },
  {
   "cell_type": "code",
   "execution_count": 10,
   "metadata": {},
   "outputs": [
    {
     "data": {
      "text/html": [
       "<div>\n",
       "<style scoped>\n",
       "    .dataframe tbody tr th:only-of-type {\n",
       "        vertical-align: middle;\n",
       "    }\n",
       "\n",
       "    .dataframe tbody tr th {\n",
       "        vertical-align: top;\n",
       "    }\n",
       "\n",
       "    .dataframe thead th {\n",
       "        text-align: right;\n",
       "    }\n",
       "</style>\n",
       "<table border=\"1\" class=\"dataframe\">\n",
       "  <thead>\n",
       "    <tr style=\"text-align: right;\">\n",
       "      <th></th>\n",
       "      <th>TimeofDay</th>\n",
       "      <th>AirTemp</th>\n",
       "      <th>Humidity</th>\n",
       "      <th>Dewpoint</th>\n",
       "      <th>BarPres</th>\n",
       "    </tr>\n",
       "  </thead>\n",
       "  <tbody>\n",
       "    <tr>\n",
       "      <th>0</th>\n",
       "      <td>15</td>\n",
       "      <td>36.7088</td>\n",
       "      <td>76.6</td>\n",
       "      <td>30.038</td>\n",
       "      <td>102.84</td>\n",
       "    </tr>\n",
       "    <tr>\n",
       "      <th>1</th>\n",
       "      <td>30</td>\n",
       "      <td>35.8394</td>\n",
       "      <td>79.8</td>\n",
       "      <td>30.200</td>\n",
       "      <td>102.85</td>\n",
       "    </tr>\n",
       "    <tr>\n",
       "      <th>2</th>\n",
       "      <td>45</td>\n",
       "      <td>35.6306</td>\n",
       "      <td>79.1</td>\n",
       "      <td>29.822</td>\n",
       "      <td>102.84</td>\n",
       "    </tr>\n",
       "    <tr>\n",
       "      <th>3</th>\n",
       "      <td>100</td>\n",
       "      <td>34.9862</td>\n",
       "      <td>80.2</td>\n",
       "      <td>29.498</td>\n",
       "      <td>102.84</td>\n",
       "    </tr>\n",
       "    <tr>\n",
       "      <th>4</th>\n",
       "      <td>115</td>\n",
       "      <td>34.9124</td>\n",
       "      <td>79.3</td>\n",
       "      <td>29.192</td>\n",
       "      <td>102.84</td>\n",
       "    </tr>\n",
       "  </tbody>\n",
       "</table>\n",
       "</div>"
      ],
      "text/plain": [
       "   TimeofDay  AirTemp  Humidity  Dewpoint  BarPres\n",
       "0         15  36.7088      76.6    30.038   102.84\n",
       "1         30  35.8394      79.8    30.200   102.85\n",
       "2         45  35.6306      79.1    29.822   102.84\n",
       "3        100  34.9862      80.2    29.498   102.84\n",
       "4        115  34.9124      79.3    29.192   102.84"
      ]
     },
     "execution_count": 10,
     "metadata": {},
     "output_type": "execute_result"
    }
   ],
   "source": [
    "X.head()"
   ]
  },
  {
   "cell_type": "markdown",
   "metadata": {
    "heading_collapsed": true
   },
   "source": [
    "# Train/Test"
   ]
  },
  {
   "cell_type": "code",
   "execution_count": 11,
   "metadata": {
    "hidden": true
   },
   "outputs": [],
   "source": [
    "#Train/Test Split\n",
    "X_train, X_test, y_train, y_test = train_test_split(X, y, test_size = .30, random_state = 123)"
   ]
  },
  {
   "cell_type": "code",
   "execution_count": 12,
   "metadata": {},
   "outputs": [],
   "source": [
    "#Modeling (Classification)\n",
    "algo = DecisionTreeRegressor(max_depth=5)\n",
    "model = algo.fit(X_train,y_train)"
   ]
  },
  {
   "cell_type": "markdown",
   "metadata": {},
   "source": [
    "# Predictions"
   ]
  },
  {
   "cell_type": "code",
   "execution_count": 13,
   "metadata": {},
   "outputs": [],
   "source": [
    "#Predictions\n",
    "preds = model.predict(X_test)"
   ]
  },
  {
   "cell_type": "code",
   "execution_count": 38,
   "metadata": {},
   "outputs": [
    {
     "data": {
      "text/html": [
       "<center><iframe width=\"560\" height=\"315\" src=\"https://www.youtube.com/embed/jZd3wICYw98\" frameborder=\"0\" allow=\"accelerometer; autoplay; encrypted-media; gyroscope; picture-in-picture\" allowfullscreen></iframe></center>"
      ],
      "text/plain": [
       "<IPython.core.display.HTML object>"
      ]
     },
     "execution_count": 38,
     "metadata": {},
     "output_type": "execute_result"
    }
   ],
   "source": [
    "HTML('<center><iframe width=\"640\" height=\"480\" src=\"https://www.youtube.com/embed/jZd3wICYw98\" frameborder=\"0\" allow=\"accelerometer; autoplay; encrypted-media; gyroscope; picture-in-picture\" allowfullscreen></iframe></center>')"
   ]
  },
  {
   "cell_type": "markdown",
   "metadata": {},
   "source": [
    "# Model Assessment (Classification)"
   ]
  },
  {
   "cell_type": "markdown",
   "metadata": {},
   "source": [
    "<h3>Objective six: Assess Findings</h3>"
   ]
  },
  {
   "cell_type": "code",
   "execution_count": 14,
   "metadata": {},
   "outputs": [
    {
     "name": "stdout",
     "output_type": "stream",
     "text": [
      "R Square: 0.812\n",
      "RMSE is: 113.300 w/m2\n"
     ]
    }
   ],
   "source": [
    "#Accuracy\n",
    "print('R Square: %.3f' % r2_score(y_test, preds))\n",
    "print('RMSE is: %.3f w/m2' % sqrt(mean_squared_error(y_test, preds)))"
   ]
  },
  {
   "cell_type": "markdown",
   "metadata": {},
   "source": [
    "<h3>Telling the Story</h3>"
   ]
  },
  {
   "cell_type": "markdown",
   "metadata": {},
   "source": [
    "<h4>Too Much Cow Bell!</h4>"
   ]
  },
  {
   "cell_type": "code",
   "execution_count": 15,
   "metadata": {},
   "outputs": [],
   "source": [
    "dot_data = export_graphviz(model, out_file=None, feature_names=X.columns)\n",
    "graph = graphviz.Source(dot_data) \n",
    "graph.render(\"dtree2\", format='png');"
   ]
  },
  {
   "cell_type": "markdown",
   "metadata": {},
   "source": [
    "<img src=\"dtree2.png\">"
   ]
  },
  {
   "cell_type": "markdown",
   "metadata": {},
   "source": [
    "<h3>Second Iteration</h3>"
   ]
  },
  {
   "cell_type": "code",
   "execution_count": 16,
   "metadata": {},
   "outputs": [],
   "source": [
    "#Modeling (Classification)\n",
    "algo = DecisionTreeRegressor(max_depth=3)\n",
    "model = algo.fit(X_train,y_train)"
   ]
  },
  {
   "cell_type": "code",
   "execution_count": 17,
   "metadata": {},
   "outputs": [],
   "source": [
    "dot_data = export_graphviz(model, out_file=None, feature_names=X.columns)\n",
    "graph = graphviz.Source(dot_data) \n",
    "graph.render(\"dtree3\", format='png');"
   ]
  },
  {
   "cell_type": "markdown",
   "metadata": {},
   "source": [
    "<img src=\"dtree3.png\">"
   ]
  },
  {
   "cell_type": "code",
   "execution_count": 18,
   "metadata": {},
   "outputs": [
    {
     "name": "stdout",
     "output_type": "stream",
     "text": [
      "Feature: 0, Score: 0.41103\n",
      "Feature: 1, Score: 0.39076\n",
      "Feature: 2, Score: 0.19821\n",
      "Feature: 3, Score: 0.00000\n",
      "Feature: 4, Score: 0.00000\n"
     ]
    }
   ],
   "source": [
    "# get importance\n",
    "importance = model.feature_importances_\n",
    "# summarize feature importance\n",
    "for i,x in enumerate(importance):\n",
    "    print('Feature: %0d, Score: %.5f' % (i,x))"
   ]
  },
  {
   "cell_type": "code",
   "execution_count": 19,
   "metadata": {},
   "outputs": [
    {
     "data": {
      "image/png": "[encoded data removed]",
      "text/plain": [
       "<Figure size 432x288 with 1 Axes>"
      ]
     },
     "metadata": {
      "needs_background": "light"
     },
     "output_type": "display_data"
    }
   ],
   "source": [
    "# plot feature importance\n",
    "plt.bar([x for x in range(len(importance))], importance);"
   ]
  },
  {
   "cell_type": "markdown",
   "metadata": {},
   "source": [
    "<b><center><h3>Resources</h3></center></b>\n",
    "<ul><a href=\"https://docs.google.com/presentation/d/1cFDEzXBLMFL0ZyfqgLn7lqn9GQXsa7ndep6cDP6hH0Y/edit?usp=sharing\">More on Decision Trees</a></ul>\n",
    "<ul><a href=\"https://www.geeksforgeeks.org/ml-r-squared-in-regression-analysis/#:~:text=Dangerous%20are%20They%3F-,ML%20%7C%20R%2Dsquared%20in%20Regression%20Analysis,better%20is%20the%20model%20fitted.\">R-squared in Regression Analysis</a></ul>\n",
    "<ul><a href=\"https://www.includehelp.com/ml-ai/root-mean-square%20error-rmse.aspx\">Root Mean Squared Error in ML</a></ul>"
   ]
  }
 ],
 "metadata": {
  "kernelspec": {
   "display_name": "Python 3",
   "language": "python",
   "name": "python3"
  },
  "language_info": {
   "codemirror_mode": {
    "name": "ipython",
    "version": 3
   },
   "file_extension": ".py",
   "mimetype": "text/x-python",
   "name": "python",
   "nbconvert_exporter": "python",
   "pygments_lexer": "ipython3",
   "version": "3.7.6"
  }
 },
 "nbformat": 4,
 "nbformat_minor": 2
}
